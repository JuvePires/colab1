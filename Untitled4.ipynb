{
  "nbformat": 4,
  "nbformat_minor": 0,
  "metadata": {
    "colab": {
      "provenance": [],
      "authorship_tag": "ABX9TyOa/aFBxE9nBKqkUU430knI",
      "include_colab_link": true
    },
    "kernelspec": {
      "name": "python3",
      "display_name": "Python 3"
    },
    "language_info": {
      "name": "python"
    }
  },
  "cells": [
    {
      "cell_type": "markdown",
      "metadata": {
        "id": "view-in-github",
        "colab_type": "text"
      },
      "source": [
        "<a href=\"https://colab.research.google.com/github/JuvePires/colab1/blob/main/Untitled4.ipynb\" target=\"_parent\"><img src=\"https://colab.research.google.com/assets/colab-badge.svg\" alt=\"Open In Colab\"/></a>"
      ]
    },
    {
      "cell_type": "code",
      "execution_count": 1,
      "metadata": {
        "id": "KXGDHcW6Sx-r"
      },
      "outputs": [],
      "source": []
    },
    {
      "cell_type": "code",
      "source": [
        "Eu vou pegar algumas palavras ao longo do texto e vou encontrar outra similar no outro e ir caminhando tanto de um lado quanto de outro dela."
      ],
      "metadata": {
        "id": "P-6qK9vW6EY4"
      },
      "execution_count": null,
      "outputs": []
    },
    {
      "cell_type": "code",
      "source": [
        "import string\n",
        "\n",
        "def texto_para_dicionarios(texto):\n",
        "    palavras = texto.split()  # Divide o texto em palavras\n",
        "    palavras_com_pontuacao = []\n",
        "\n",
        "    for palavra in palavras:\n",
        "        # Remove a pontuação anexada e adiciona a palavra\n",
        "        palavra_sem_pontuacao = palavra.strip(string.punctuation)\n",
        "        palavras_com_pontuacao.append(palavra_sem_pontuacao)\n",
        "\n",
        "        # Adiciona a pontuação como uma palavra separada\n",
        "        if palavra_sem_pontuacao != palavra:\n",
        "            palavras_com_pontuacao.append(palavra[len(palavra_sem_pontuacao):])\n",
        "\n",
        "    dicionario_palavra_indice = {}\n",
        "    dicionario_indice_palavra = {}\n",
        "\n",
        "    for indice, palavra in enumerate(palavras_com_pontuacao):\n",
        "        # Se a palavra já está no dicionário, adiciona o novo índice à lista existente\n",
        "        if palavra in dicionario_palavra_indice:\n",
        "            dicionario_palavra_indice[palavra].append(indice)\n",
        "        else:\n",
        "            # Se a palavra não está no dicionário, cria uma nova entrada\n",
        "            dicionario_palavra_indice[palavra] = [indice]\n",
        "\n",
        "        # Adiciona a palavra ao dicionário índice-palavra (sobrescrevendo índices anteriores)\n",
        "        dicionario_indice_palavra[indice] = palavra\n",
        "\n",
        "    return dicionario_palavra_indice, dicionario_indice_palavra\n"
      ],
      "metadata": {
        "id": "ygmIU_r_AGO2"
      },
      "execution_count": 5,
      "outputs": []
    },
    {
      "cell_type": "code",
      "source": [
        "# Exemplo de uso\n",
        "texto_entrada = \"Essa pontuação, se mistura. ; ou seja , se junta na palavra pontuação e . se mistura\"\n",
        "texto_entrada1 = \"testee Essa pontuação, se mistura. ; isto é , se junta na palavra pontuação e . se mistura\"\n",
        "resultado_palavra_indice, resultado_indice_palavra = texto_para_dicionarios(texto_entrada)\n",
        "resultado_palavra_indice1, resultado_indice_palavra1 = texto_para_dicionarios(texto_entrada1)\n",
        "\n",
        "# Exibir os dicionários resultantes\n",
        "print(\"Dicionário Palavra-Índice:\")\n",
        "print(resultado_palavra_indice)\n",
        "\n",
        "print(\"\\nDicionário Índice-Palavra:\")\n",
        "print(resultado_indice_palavra)\n",
        "\n",
        "\n",
        "# Exibir os dicionários resultantes\n",
        "print(\"Dicionário Palavra-Índice 1:\")\n",
        "print(resultado_palavra_indice1)\n",
        "\n",
        "print(\"\\nDicionário Índice-Palavra 1:\")\n",
        "print(resultado_indice_palavra1)"
      ],
      "metadata": {
        "colab": {
          "base_uri": "https://localhost:8080/"
        },
        "id": "c82EsvrEDCxR",
        "outputId": "fda741c6-0c19-4780-ac60-b42e6b157361"
      },
      "execution_count": 6,
      "outputs": [
        {
          "output_type": "stream",
          "name": "stdout",
          "text": [
            "Dicionário Palavra-Índice:\n",
            "{'Essa': [0], 'pontuação': [1, 16], ',': [2, 11], 'se': [3, 12, 20], 'mistura': [4, 21], '.': [5, 19], '': [6, 10, 18], ';': [7], 'ou': [8], 'seja': [9], 'junta': [13], 'na': [14], 'palavra': [15], 'e': [17]}\n",
            "\n",
            "Dicionário Índice-Palavra:\n",
            "{0: 'Essa', 1: 'pontuação', 2: ',', 3: 'se', 4: 'mistura', 5: '.', 6: '', 7: ';', 8: 'ou', 9: 'seja', 10: '', 11: ',', 12: 'se', 13: 'junta', 14: 'na', 15: 'palavra', 16: 'pontuação', 17: 'e', 18: '', 19: '.', 20: 'se', 21: 'mistura'}\n",
            "Dicionário Palavra-Índice 1:\n",
            "{'testee': [0], 'Essa': [1], 'pontuação': [2, 17], ',': [3, 12], 'se': [4, 13, 21], 'mistura': [5, 22], '.': [6, 20], '': [7, 11, 19], ';': [8], 'isto': [9], 'é': [10], 'junta': [14], 'na': [15], 'palavra': [16], 'e': [18]}\n",
            "\n",
            "Dicionário Índice-Palavra 1:\n",
            "{0: 'testee', 1: 'Essa', 2: 'pontuação', 3: ',', 4: 'se', 5: 'mistura', 6: '.', 7: '', 8: ';', 9: 'isto', 10: 'é', 11: '', 12: ',', 13: 'se', 14: 'junta', 15: 'na', 16: 'palavra', 17: 'pontuação', 18: 'e', 19: '', 20: '.', 21: 'se', 22: 'mistura'}\n"
          ]
        }
      ]
    },
    {
      "cell_type": "code",
      "source": [],
      "metadata": {
        "id": "JX-icjQsW_Jh"
      },
      "execution_count": null,
      "outputs": []
    },
    {
      "cell_type": "code",
      "source": [],
      "metadata": {
        "id": "uGqowHfHW_Pc"
      },
      "execution_count": null,
      "outputs": []
    },
    {
      "cell_type": "code",
      "source": [
        "lista_do_dicionario1 = list(resultado_indice_palavra1.items())\n",
        "#lista2_do_dicionario1 = list(resultado_palavra_indice1.items())\n",
        "lista_do_dicionario = list(resultado_indice_palavra.items())\n",
        "#lista2_do_dicionario = list(resultado_palavra_indice.items())\n",
        "\n",
        "\n",
        "primeira_chave, primeiro_valor = next(iter(resultado_palavra_indice.items()))\n",
        "posicao_desejada = resultado_palavra_indice1.get(primeira_chave, 'Chave não encontrada')[0]"
      ],
      "metadata": {
        "id": "IbRYZPzpW_SM"
      },
      "execution_count": 22,
      "outputs": []
    },
    {
      "cell_type": "code",
      "source": [],
      "metadata": {
        "id": "y6KAaXvJa_DU"
      },
      "execution_count": 66,
      "outputs": []
    },
    {
      "cell_type": "code",
      "source": [],
      "metadata": {
        "id": "MZUl9qRmp-F6"
      },
      "execution_count": 65,
      "outputs": []
    },
    {
      "cell_type": "code",
      "source": [
        "i = 0\n",
        "\n",
        "while  i < min(len(lista_do_dicionario), len(lista_do_dicionario1)):\n",
        "  while i + posicao_desejada < len(lista_do_dicionario1) and lista_do_dicionario1[i + posicao_desejada][1] == lista_do_dicionario[i][1]:\n",
        "    valor_na_posicao = lista_do_dicionario1[i + posicao_desejada][1]\n",
        "    print(valor_na_posicao)\n",
        "    i += 1\n",
        "  print(\"****************************************************\")\n",
        "  i += 1\n"
      ],
      "metadata": {
        "colab": {
          "base_uri": "https://localhost:8080/"
        },
        "id": "RIbXwQB4a_GL",
        "outputId": "731da07b-54c9-4c05-c4b1-a528ad057248"
      },
      "execution_count": 65,
      "outputs": [
        {
          "output_type": "stream",
          "name": "stdout",
          "text": [
            "Essa\n",
            "pontuação\n",
            ",\n",
            "se\n",
            "mistura\n",
            ".\n",
            "\n",
            ";\n",
            "****************************************************\n",
            "****************************************************\n",
            "\n",
            ",\n",
            "se\n",
            "junta\n",
            "na\n",
            "palavra\n",
            "pontuação\n",
            "e\n",
            "\n",
            ".\n",
            "se\n",
            "mistura\n",
            "****************************************************\n"
          ]
        }
      ]
    },
    {
      "cell_type": "code",
      "source": [
        "vou ter que pegar esses indices de inicio e fim e marcar na lista ou já copiar essas partes e ir cologando em negrito.\n",
        "for i in range(len(traducoes)):\n",
        "    frase_formatada = markdown(f\"<span style='font-size: 1.5em;'>**{frases[i].strip()}**</span>\")\n",
        "    display(HTML(frase_formatada))\n",
        "    frase_formatada1 = markdown(f\"<span style='font-size: 1.5em;'>{traducoes[i].strip()}</span>\")\n",
        "    display(HTML(frase_formatada1))"
      ],
      "metadata": {
        "id": "3l_kmcXUwgvE"
      },
      "execution_count": null,
      "outputs": []
    },
    {
      "cell_type": "code",
      "source": [
        "i = 0\n",
        "\n",
        "while  i < min(len(lista_do_dicionario), len(lista_do_dicionario1)):\n",
        "  while i + posicao_desejada < len(lista_do_dicionario1) and lista_do_dicionario1[i + posicao_desejada][1] == lista_do_dicionario[i][1]:\n",
        "    valor_na_posicao = lista_do_dicionario1[i + posicao_desejada][1]\n",
        "    print(valor_na_posicao)\n",
        "    i += 1\n",
        "  print(\"****************************************************\")\n",
        "  i += 1\n"
      ],
      "metadata": {
        "id": "LWU-45HBwjm3"
      },
      "execution_count": null,
      "outputs": []
    },
    {
      "cell_type": "code",
      "source": [],
      "metadata": {
        "id": "4SIfeVR3whEW"
      },
      "execution_count": null,
      "outputs": []
    },
    {
      "cell_type": "code",
      "source": [
        "from markdown import markdown\n",
        "from IPython.display import HTML, display\n",
        "\n",
        "# Dicionário Índice-Palavra 1\n",
        "dicionario_indice_palavra_1 = {0: 'testee', 1: 'Essa', 2: 'pontuação', 3: ',', 4: 'se', 5: 'mistura', 6: '.', 7: '', 8: ';', 9: 'isto', 10: 'é', 11: '', 12: ',', 13: 'se', 14: 'junta', 15: 'na', 16: 'palavra', 17: 'pontuação', 18: 'e', 19: '', 20: '.', 21: 'se', 22: 'mistura'}\n",
        "\n",
        "# Criar uma string formatada\n",
        "texto_formatado = ' '.join([f'{palavra}' for indice, palavra in dicionario_indice_palavra_1.items()])\n",
        "\n",
        "frase_formatada = markdown(f\"<span style='font-size: 1.5em;'>**{texto_formatado.strip()}**</span>\")\n",
        "display(HTML(frase_formatada))\n"
      ],
      "metadata": {
        "colab": {
          "base_uri": "https://localhost:8080/",
          "height": 55
        },
        "id": "W25WKQto7aj2",
        "outputId": "6e91209d-4b7a-4b04-c2d8-f90eb053de5d"
      },
      "execution_count": 80,
      "outputs": [
        {
          "output_type": "display_data",
          "data": {
            "text/plain": [
              "<IPython.core.display.HTML object>"
            ],
            "text/html": [
              "<p><span style='font-size: 1.5em;'><strong>testee Essa pontuação , se mistura .  ; isto é  , se junta na palavra pontuação e  . se mistura</strong></span></p>"
            ]
          },
          "metadata": {}
        }
      ]
    },
    {
      "cell_type": "code",
      "source": [],
      "metadata": {
        "id": "7MOcnBLB7amu"
      },
      "execution_count": null,
      "outputs": []
    },
    {
      "cell_type": "code",
      "source": [],
      "metadata": {
        "id": "AuUCebTUwhJi"
      },
      "execution_count": null,
      "outputs": []
    },
    {
      "cell_type": "code",
      "source": [
        "i = 0\n",
        "\n",
        "while i < min(len(lista_do_dicionario), len(lista_do_dicionario1)):\n",
        "    while i + posicao_desejada < len(lista_do_dicionario1) and i + posicao_desejada < len(lista_do_dicionario) and lista_do_dicionario1[i + posicao_desejada][1] == lista_do_dicionario[i][1]:\n",
        "        valor_na_posicao = lista_do_dicionario1[i + posicao_desejada][1]\n",
        "        print(valor_na_posicao)\n",
        "        i += 1\n",
        "\n",
        "    i_saiu_while = i\n",
        "    print(i)\n",
        "\n",
        "    # Verifique se ainda é válido acessar o índice na lista_do_dicionario\n",
        "    if i <= len(lista_do_dicionario):\n",
        "        chave_essa = lista_do_dicionario[i][1]\n",
        "        valores_essa = resultado_palavra_indice1.get(chave_essa, 'Chave não encontrada')\n",
        "        # print(f'Valores associados à chave \"{chave_essa}\": {valores_essa}')\n",
        "\n",
        "    i += 1\n"
      ],
      "metadata": {
        "colab": {
          "base_uri": "https://localhost:8080/"
        },
        "id": "4kx41ELUa_Il",
        "outputId": "62d3eebb-80f1-4fdf-a3b1-c6caacb4c018"
      },
      "execution_count": 56,
      "outputs": [
        {
          "output_type": "stream",
          "name": "stdout",
          "text": [
            "Essa\n",
            "pontuação\n",
            ",\n",
            "se\n",
            "mistura\n",
            ".\n",
            "\n",
            ";\n",
            "8\n",
            "9\n",
            "\n",
            ",\n",
            "se\n",
            "junta\n",
            "na\n",
            "palavra\n",
            "pontuação\n",
            "e\n",
            "\n",
            ".\n",
            "se\n",
            "21\n"
          ]
        }
      ]
    },
    {
      "cell_type": "code",
      "source": [],
      "metadata": {
        "id": "VrLgnys5a_LV"
      },
      "execution_count": null,
      "outputs": []
    },
    {
      "cell_type": "code",
      "source": [],
      "metadata": {
        "id": "jVpsJvdMa_OH"
      },
      "execution_count": null,
      "outputs": []
    },
    {
      "cell_type": "code",
      "source": [],
      "metadata": {
        "id": "jg49Ajr2a_Q7"
      },
      "execution_count": null,
      "outputs": []
    },
    {
      "cell_type": "code",
      "source": [],
      "metadata": {
        "id": "HIWHoRM8a_Tu"
      },
      "execution_count": null,
      "outputs": []
    },
    {
      "cell_type": "code",
      "source": [
        "i = 0\n",
        "while lista_do_dicionario1[i + posicao_desejada][1] == lista_do_dicionario[i][1]:\n",
        "    valor_na_posicao = lista_do_dicionario1[i + posicao_desejada][1]\n",
        "    print(valor_na_posicao)\n",
        "    i += 1\n",
        "i_saiu_while = i"
      ],
      "metadata": {
        "colab": {
          "base_uri": "https://localhost:8080/"
        },
        "id": "nxmHSQUoW_U2",
        "outputId": "26203b8f-4e3c-4622-c035-7a596e7cb108"
      },
      "execution_count": 17,
      "outputs": [
        {
          "output_type": "stream",
          "name": "stdout",
          "text": [
            "Essa\n",
            "pontuação\n",
            ",\n",
            "se\n",
            "mistura\n",
            ".\n",
            "\n",
            ";\n"
          ]
        }
      ]
    },
    {
      "cell_type": "code",
      "source": [
        "chave_essa = lista_do_dicionario[i][1]\n",
        "valores_essa = resultado_palavra_indice1.get(chave_essa, 'Chave não encontrada')\n",
        "print(f'Valores associados à chave \"{chave_essa}\": {valores_essa}')\n",
        "i += 1"
      ],
      "metadata": {
        "colab": {
          "base_uri": "https://localhost:8080/"
        },
        "id": "uwORb0lsW_Xl",
        "outputId": "501ec8a3-7d18-4187-a2db-55df6f52b394"
      },
      "execution_count": 20,
      "outputs": [
        {
          "output_type": "stream",
          "name": "stdout",
          "text": [
            "Valores associados à chave \"\": [7, 11, 19]\n"
          ]
        }
      ]
    },
    {
      "cell_type": "code",
      "source": [
        "while i + posicao_desejada < len(lista_do_dicionario1) and lista_do_dicionario1[i + posicao_desejada][1] == lista_do_dicionario[i][1]:\n",
        "    valor_na_posicao = lista_do_dicionario1[i + posicao_desejada][1]\n",
        "    print(valor_na_posicao)\n",
        "    i += 1\n",
        "i_saiu_while = i"
      ],
      "metadata": {
        "colab": {
          "base_uri": "https://localhost:8080/"
        },
        "id": "P_L56VGEW_Z-",
        "outputId": "dfca73c0-7c29-48c5-b465-758e58700c84"
      },
      "execution_count": 21,
      "outputs": [
        {
          "output_type": "stream",
          "name": "stdout",
          "text": [
            ",\n",
            "se\n",
            "junta\n",
            "na\n",
            "palavra\n",
            "pontuação\n",
            "e\n",
            "\n",
            ".\n",
            "se\n",
            "mistura\n"
          ]
        }
      ]
    },
    {
      "cell_type": "code",
      "source": [],
      "metadata": {
        "id": "YDvtfA6daci2"
      },
      "execution_count": null,
      "outputs": []
    },
    {
      "cell_type": "code",
      "source": [],
      "metadata": {
        "id": "dhNK6YHeacla"
      },
      "execution_count": null,
      "outputs": []
    },
    {
      "cell_type": "code",
      "source": [],
      "metadata": {
        "id": "xc0qKMDGacn2"
      },
      "execution_count": null,
      "outputs": []
    },
    {
      "cell_type": "code",
      "source": [],
      "metadata": {
        "id": "9ZbHPCjaW_c3"
      },
      "execution_count": null,
      "outputs": []
    },
    {
      "cell_type": "code",
      "source": [
        "primeira_chave, primeiro_valor = next(iter(resultado_palavra_indice.items()))\n",
        "print(primeira_chave, primeiro_valor)"
      ],
      "metadata": {
        "colab": {
          "base_uri": "https://localhost:8080/"
        },
        "id": "pBYxbvZELvVz",
        "outputId": "daf3bf9f-0cb3-488a-ea9a-0af84d0f984b"
      },
      "execution_count": 9,
      "outputs": [
        {
          "output_type": "stream",
          "name": "stdout",
          "text": [
            "Essa [0]\n"
          ]
        }
      ]
    },
    {
      "cell_type": "code",
      "source": [
        "resultado_palavra_indice1.get(primeira_chave, 'Chave não encontrada')[0]"
      ],
      "metadata": {
        "colab": {
          "base_uri": "https://localhost:8080/"
        },
        "id": "xvVyQtzuLyiZ",
        "outputId": "54a2844d-89fb-4de8-a535-67b9fd9663b3"
      },
      "execution_count": 109,
      "outputs": [
        {
          "output_type": "execute_result",
          "data": {
            "text/plain": [
              "1"
            ]
          },
          "metadata": {},
          "execution_count": 109
        }
      ]
    },
    {
      "cell_type": "code",
      "source": [
        "chave_essa = primeira_chave\n",
        "valores_essa = resultado_palavra_indice1[chave_essa]\n",
        "print(f'Valores associados à chave \"{chave_essa}\": {valores_essa}')"
      ],
      "metadata": {
        "colab": {
          "base_uri": "https://localhost:8080/"
        },
        "id": "p3r6HucZSAaW",
        "outputId": "cf36db75-ac6e-4301-8d6e-6882a9c03989"
      },
      "execution_count": 110,
      "outputs": [
        {
          "output_type": "stream",
          "name": "stdout",
          "text": [
            "Valores associados à chave \"Essa\": [1]\n"
          ]
        }
      ]
    },
    {
      "cell_type": "code",
      "source": [],
      "metadata": {
        "id": "g5SK9Np2QhD7"
      },
      "execution_count": null,
      "outputs": []
    },
    {
      "cell_type": "code",
      "source": [
        "lista_do_dicionario1 = list(resultado_indice_palavra1.items())\n",
        "#lista2_do_dicionario1 = list(resultado_palavra_indice1.items())\n",
        "lista_do_dicionario = list(resultado_indice_palavra.items())\n",
        "#lista2_do_dicionario = list(resultado_palavra_indice.items())\n",
        "posicao_desejada = resultado_palavra_indice1.get('Essa', 'Chave não encontrada')[0]\n",
        "chave, valor = lista_do_dicionario1[posicao_desejada]\n",
        "print(f\"Chave: {chave}, Valor: {valor}\")"
      ],
      "metadata": {
        "colab": {
          "base_uri": "https://localhost:8080/"
        },
        "id": "46avDzmQSApH",
        "outputId": "9cc713eb-2df6-445e-9749-f9b54e8e13e1"
      },
      "execution_count": 145,
      "outputs": [
        {
          "output_type": "stream",
          "name": "stdout",
          "text": [
            "Chave: 1, Valor: Essa\n"
          ]
        }
      ]
    },
    {
      "cell_type": "code",
      "source": [],
      "metadata": {
        "id": "YYjiLnuW8yLJ"
      },
      "execution_count": 15,
      "outputs": []
    },
    {
      "cell_type": "code",
      "source": [
        "lista_do_dicionario1[posicao_desejada][1]"
      ],
      "metadata": {
        "colab": {
          "base_uri": "https://localhost:8080/",
          "height": 35
        },
        "id": "rg_bUlqI8s4S",
        "outputId": "2773251b-111b-4409-d269-71a08d1d8925"
      },
      "execution_count": 134,
      "outputs": [
        {
          "output_type": "execute_result",
          "data": {
            "text/plain": [
              "'Essa'"
            ],
            "application/vnd.google.colaboratory.intrinsic+json": {
              "type": "string"
            }
          },
          "metadata": {},
          "execution_count": 134
        }
      ]
    },
    {
      "cell_type": "code",
      "source": [
        "lista_do_dicionario[0][1]"
      ],
      "metadata": {
        "colab": {
          "base_uri": "https://localhost:8080/",
          "height": 35
        },
        "id": "MiKaU5i18tAL",
        "outputId": "60a9c5e1-9bed-433b-e726-76a8a591ca90"
      },
      "execution_count": 135,
      "outputs": [
        {
          "output_type": "execute_result",
          "data": {
            "text/plain": [
              "'Essa'"
            ],
            "application/vnd.google.colaboratory.intrinsic+json": {
              "type": "string"
            }
          },
          "metadata": {},
          "execution_count": 135
        }
      ]
    },
    {
      "cell_type": "code",
      "source": [
        "posicao_desejada"
      ],
      "metadata": {
        "colab": {
          "base_uri": "https://localhost:8080/"
        },
        "id": "Qh17-ZFWugF7",
        "outputId": "db43480d-35f8-41ea-bc57-90da8e6e0097"
      },
      "execution_count": 138,
      "outputs": [
        {
          "output_type": "execute_result",
          "data": {
            "text/plain": [
              "1"
            ]
          },
          "metadata": {},
          "execution_count": 138
        }
      ]
    },
    {
      "cell_type": "code",
      "source": [
        "lista_do_dicionario1[posicao_desejada][1] == lista_do_dicionario[0][1]"
      ],
      "metadata": {
        "colab": {
          "base_uri": "https://localhost:8080/"
        },
        "id": "f3caUxAugqxO",
        "outputId": "3d2f3f89-c478-4caf-dcd1-fdcac365ebdd"
      },
      "execution_count": 133,
      "outputs": [
        {
          "output_type": "execute_result",
          "data": {
            "text/plain": [
              "True"
            ]
          },
          "metadata": {},
          "execution_count": 133
        }
      ]
    },
    {
      "cell_type": "code",
      "source": [
        "i = 0\n",
        "while lista_do_dicionario1[i + posicao_desejada][1] == lista_do_dicionario[i][1]:\n",
        "    valor_na_posicao = lista_do_dicionario1[i + posicao_desejada][1]\n",
        "    print(valor_na_posicao)\n",
        "    i += 1\n",
        "i_saiu_while = i"
      ],
      "metadata": {
        "colab": {
          "base_uri": "https://localhost:8080/"
        },
        "id": "fR2rcz_dvDrY",
        "outputId": "221c6199-7e54-45c2-c7dd-b77d8876a758"
      },
      "execution_count": 146,
      "outputs": [
        {
          "output_type": "stream",
          "name": "stdout",
          "text": [
            "Essa\n",
            "pontuação\n",
            ",\n",
            "se\n",
            "mistura\n",
            ".\n",
            "\n",
            ";\n",
            "8\n",
            "8\n",
            "8\n"
          ]
        }
      ]
    },
    {
      "cell_type": "code",
      "source": [
        "o próximo passo seria pegar uma palavra de qualquer um e achar um correspondente"
      ],
      "metadata": {
        "id": "_-10ljt-vDuK"
      },
      "execution_count": null,
      "outputs": []
    },
    {
      "cell_type": "code",
      "source": [
        "lista_do_dicionario[i][1]"
      ],
      "metadata": {
        "colab": {
          "base_uri": "https://localhost:8080/",
          "height": 35
        },
        "id": "2uR7vjhB6_T2",
        "outputId": "57e1c37e-2ad8-453e-87a4-b1ca37305163"
      },
      "execution_count": 119,
      "outputs": [
        {
          "output_type": "execute_result",
          "data": {
            "text/plain": [
              "'ou'"
            ],
            "application/vnd.google.colaboratory.intrinsic+json": {
              "type": "string"
            }
          },
          "metadata": {},
          "execution_count": 119
        }
      ]
    },
    {
      "cell_type": "code",
      "source": [
        "resultado_palavra_indice1"
      ],
      "metadata": {
        "colab": {
          "base_uri": "https://localhost:8080/"
        },
        "id": "fLp9HwIX9rz_",
        "outputId": "97fdb65a-a879-4031-e8af-630b4b4a6a40"
      },
      "execution_count": 90,
      "outputs": [
        {
          "output_type": "execute_result",
          "data": {
            "text/plain": [
              "{'testee': [0],\n",
              " 'Essa': [1],\n",
              " 'pontuação': [2, 17],\n",
              " ',': [3, 12],\n",
              " 'se': [4, 13, 21],\n",
              " 'mistura': [5, 22],\n",
              " '.': [6, 20],\n",
              " '': [7, 11, 19],\n",
              " ';': [8],\n",
              " 'isto': [9],\n",
              " 'é': [10],\n",
              " 'junta': [14],\n",
              " 'na': [15],\n",
              " 'palavra': [16],\n",
              " 'e': [18]}"
            ]
          },
          "metadata": {},
          "execution_count": 90
        }
      ]
    },
    {
      "cell_type": "code",
      "source": [
        "chave_essa = lista_do_dicionario[i][1]\n",
        "valores_essa = resultado_palavra_indice1.get(chave_essa, 'Chave não encontrada')\n",
        "print(f'Valores associados à chave \"{chave_essa}\": {valores_essa}')\n",
        "i += 1"
      ],
      "metadata": {
        "colab": {
          "base_uri": "https://localhost:8080/"
        },
        "id": "8JU822TF6_Wf",
        "outputId": "9494ec3c-fffc-46f5-d277-38fc1b18b703"
      },
      "execution_count": 149,
      "outputs": [
        {
          "output_type": "stream",
          "name": "stdout",
          "text": [
            "Valores associados à chave \"\": [7, 11, 19]\n"
          ]
        }
      ]
    },
    {
      "cell_type": "code",
      "source": [
        "# Aqui tem o -1 por causa do i += 1 na anterior\n",
        "lista_do_dicionario[i - 1][1]"
      ],
      "metadata": {
        "colab": {
          "base_uri": "https://localhost:8080/",
          "height": 35
        },
        "outputId": "f78d0272-0188-41c1-c4cf-edd3bf28014f",
        "id": "jgw-_ZIb9Tdc"
      },
      "execution_count": 123,
      "outputs": [
        {
          "output_type": "execute_result",
          "data": {
            "text/plain": [
              "''"
            ],
            "application/vnd.google.colaboratory.intrinsic+json": {
              "type": "string"
            }
          },
          "metadata": {},
          "execution_count": 123
        }
      ]
    },
    {
      "cell_type": "code",
      "source": [
        "resultado_palavra_indice1[chave_essa]"
      ],
      "metadata": {
        "colab": {
          "base_uri": "https://localhost:8080/"
        },
        "id": "q085kgHlBQOX",
        "outputId": "acbbc790-a0c1-45de-e9da-ae205bbda3a1"
      },
      "execution_count": 124,
      "outputs": [
        {
          "output_type": "execute_result",
          "data": {
            "text/plain": [
              "[7, 11, 19]"
            ]
          },
          "metadata": {},
          "execution_count": 124
        }
      ]
    },
    {
      "cell_type": "code",
      "source": [
        "i_saiu_while"
      ],
      "metadata": {
        "colab": {
          "base_uri": "https://localhost:8080/"
        },
        "id": "CbkTx93y-1jo",
        "outputId": "c963f80d-d32f-475f-d06a-f5c1b2b209a6"
      },
      "execution_count": 126,
      "outputs": [
        {
          "output_type": "execute_result",
          "data": {
            "text/plain": [
              "8"
            ]
          },
          "metadata": {},
          "execution_count": 126
        }
      ]
    },
    {
      "cell_type": "code",
      "source": [
        "indice_posteriores_palavra_stop = [elemento for elemento in resultado_palavra_indice1[chave_essa] if elemento > i_saiu_while]\n",
        "indice_posteriores_palavra_stop"
      ],
      "metadata": {
        "colab": {
          "base_uri": "https://localhost:8080/"
        },
        "id": "swzp5tc2-1w-",
        "outputId": "174ff93d-8a40-49b3-b5b2-c57e760dd89e"
      },
      "execution_count": 127,
      "outputs": [
        {
          "output_type": "execute_result",
          "data": {
            "text/plain": [
              "[11, 19]"
            ]
          },
          "metadata": {},
          "execution_count": 127
        }
      ]
    },
    {
      "cell_type": "code",
      "source": [
        "lista_do_dicionario[i - 1][0]"
      ],
      "metadata": {
        "colab": {
          "base_uri": "https://localhost:8080/"
        },
        "id": "rQ67RwVQFNPN",
        "outputId": "afe00eb4-4616-4fb0-e266-8b812c58e192"
      },
      "execution_count": 128,
      "outputs": [
        {
          "output_type": "execute_result",
          "data": {
            "text/plain": [
              "10"
            ]
          },
          "metadata": {},
          "execution_count": 128
        }
      ]
    },
    {
      "cell_type": "code",
      "source": [],
      "metadata": {
        "id": "5psBiWlLQMls"
      },
      "execution_count": null,
      "outputs": []
    },
    {
      "cell_type": "code",
      "source": [
        "lista_do_dicionario1[i + posicao_desejada][1]"
      ],
      "metadata": {
        "colab": {
          "base_uri": "https://localhost:8080/",
          "height": 35
        },
        "id": "1lLYYZEHUn3J",
        "outputId": "6d7fea7f-7e3c-4c11-cee2-731563f3bff9"
      },
      "execution_count": 129,
      "outputs": [
        {
          "output_type": "execute_result",
          "data": {
            "text/plain": [
              "','"
            ],
            "application/vnd.google.colaboratory.intrinsic+json": {
              "type": "string"
            }
          },
          "metadata": {},
          "execution_count": 129
        }
      ]
    },
    {
      "cell_type": "code",
      "source": [
        "lista_do_dicionario[i][1]"
      ],
      "metadata": {
        "colab": {
          "base_uri": "https://localhost:8080/",
          "height": 35
        },
        "id": "H2fci6CXUn9V",
        "outputId": "ff1248b6-d859-45ae-a7a4-01e39df37240"
      },
      "execution_count": 130,
      "outputs": [
        {
          "output_type": "execute_result",
          "data": {
            "text/plain": [
              "','"
            ],
            "application/vnd.google.colaboratory.intrinsic+json": {
              "type": "string"
            }
          },
          "metadata": {},
          "execution_count": 130
        }
      ]
    },
    {
      "cell_type": "code",
      "source": [
        "posicao_desejada"
      ],
      "metadata": {
        "colab": {
          "base_uri": "https://localhost:8080/"
        },
        "id": "dy5COdrwUtuc",
        "outputId": "74c37b5f-80e6-4227-a00e-88580af50c55"
      },
      "execution_count": 151,
      "outputs": [
        {
          "output_type": "execute_result",
          "data": {
            "text/plain": [
              "1"
            ]
          },
          "metadata": {},
          "execution_count": 151
        }
      ]
    },
    {
      "cell_type": "code",
      "source": [
        "while i + posicao_desejada < len(lista_do_dicionario1) and lista_do_dicionario1[i + posicao_desejada][1] == lista_do_dicionario[i][1]:\n",
        "    valor_na_posicao = lista_do_dicionario1[i + posicao_desejada][1]\n",
        "    print(valor_na_posicao)\n",
        "    i += 1\n",
        "i_saiu_while = i"
      ],
      "metadata": {
        "colab": {
          "base_uri": "https://localhost:8080/"
        },
        "id": "e3nVEyDhQMv_",
        "outputId": "a2f8f6d0-8dcd-4384-803f-e756efb3252c"
      },
      "execution_count": 150,
      "outputs": [
        {
          "output_type": "stream",
          "name": "stdout",
          "text": [
            ",\n",
            "se\n",
            "junta\n",
            "na\n",
            "palavra\n",
            "pontuação\n",
            "e\n",
            "\n",
            ".\n",
            "se\n",
            "mistura\n",
            "22\n",
            "22\n",
            "22\n"
          ]
        }
      ]
    },
    {
      "cell_type": "code",
      "source": [],
      "metadata": {
        "id": "XedIMQWBQNZJ"
      },
      "execution_count": null,
      "outputs": []
    },
    {
      "cell_type": "code",
      "source": [],
      "metadata": {
        "id": "-d8EVaaZBbLo"
      },
      "execution_count": 143,
      "outputs": []
    },
    {
      "cell_type": "code",
      "source": [],
      "metadata": {
        "id": "4smFjcylBbUj"
      },
      "execution_count": 143,
      "outputs": []
    },
    {
      "cell_type": "code",
      "source": [],
      "metadata": {
        "id": "WrU1m2FYgq0R"
      },
      "execution_count": 143,
      "outputs": []
    },
    {
      "cell_type": "code",
      "source": [],
      "metadata": {
        "id": "ZcH8s8rvGgzo"
      },
      "execution_count": null,
      "outputs": []
    },
    {
      "cell_type": "code",
      "source": [],
      "metadata": {
        "id": "w1o3GJCiGg2X"
      },
      "execution_count": null,
      "outputs": []
    },
    {
      "cell_type": "code",
      "source": [
        "import time\n",
        "\n",
        "def gerar_sequencia(n):\n",
        "    sequencia = []\n",
        "    for i in range(n):\n",
        "        termo = \"\"\n",
        "        j = i\n",
        "        while j >= 0:\n",
        "            termo = chr(97 + (j % 26)) + termo\n",
        "            j = j // 26 - 1\n",
        "        sequencia.append(termo)\n",
        "    return sequencia\n",
        "\n",
        "# Gerar sequência com os primeiros 30 termos como exemplo\n",
        "termos_gerados = gerar_sequencia(3000000)\n",
        "\n",
        "# Armazenar os termos gerados em um dicionário\n",
        "meu_dicionario_grande = {i: termo for i, termo in enumerate(termos_gerados, 1)}\n",
        "\n",
        "# Exibir os termos gerados dentro do dicionário de trás para frente\n",
        "for chave, valor in reversed(list(meu_dicionario_grande.items())):\n",
        "    print(f\"{chave}: {valor}\")\n",
        "    time.sleep(0.5)  # Pausa de meio segundo\n",
        "    # Limpar a tela (pode variar dependendo do ambiente)\n",
        "    print(\"\\033c\", end=\"\")\n"
      ],
      "metadata": {
        "colab": {
          "base_uri": "https://localhost:8080/",
          "height": 438
        },
        "id": "S_G0AI0bWLUP",
        "outputId": "079e6fcb-7cd0-4572-fb01-75bca813f919"
      },
      "execution_count": null,
      "outputs": [
        {
          "output_type": "stream",
          "name": "stdout",
          "text": [
            "3000000: fnqvp\n",
            "\u001bc2999999: fnqvo\n",
            "\u001bc2999998: fnqvn\n",
            "\u001bc2999997: fnqvm\n",
            "\u001bc2999996: fnqvl\n",
            "\u001bc2999995: fnqvk\n",
            "\u001bc2999994: fnqvj\n",
            "\u001bc2999993: fnqvi\n",
            "\u001bc2999992: fnqvh\n",
            "\u001bc2999991: fnqvg\n"
          ]
        },
        {
          "output_type": "error",
          "ename": "KeyboardInterrupt",
          "evalue": "",
          "traceback": [
            "\u001b[0;31m---------------------------------------------------------------------------\u001b[0m",
            "\u001b[0;31mKeyboardInterrupt\u001b[0m                         Traceback (most recent call last)",
            "\u001b[0;32m<ipython-input-85-00e122487e41>\u001b[0m in \u001b[0;36m<cell line: 21>\u001b[0;34m()\u001b[0m\n\u001b[1;32m     21\u001b[0m \u001b[0;32mfor\u001b[0m \u001b[0mchave\u001b[0m\u001b[0;34m,\u001b[0m \u001b[0mvalor\u001b[0m \u001b[0;32min\u001b[0m \u001b[0mreversed\u001b[0m\u001b[0;34m(\u001b[0m\u001b[0mlist\u001b[0m\u001b[0;34m(\u001b[0m\u001b[0mmeu_dicionario_grande\u001b[0m\u001b[0;34m.\u001b[0m\u001b[0mitems\u001b[0m\u001b[0;34m(\u001b[0m\u001b[0;34m)\u001b[0m\u001b[0;34m)\u001b[0m\u001b[0;34m)\u001b[0m\u001b[0;34m:\u001b[0m\u001b[0;34m\u001b[0m\u001b[0;34m\u001b[0m\u001b[0m\n\u001b[1;32m     22\u001b[0m     \u001b[0mprint\u001b[0m\u001b[0;34m(\u001b[0m\u001b[0;34mf\"{chave}: {valor}\"\u001b[0m\u001b[0;34m)\u001b[0m\u001b[0;34m\u001b[0m\u001b[0;34m\u001b[0m\u001b[0m\n\u001b[0;32m---> 23\u001b[0;31m     \u001b[0mtime\u001b[0m\u001b[0;34m.\u001b[0m\u001b[0msleep\u001b[0m\u001b[0;34m(\u001b[0m\u001b[0;36m0.5\u001b[0m\u001b[0;34m)\u001b[0m  \u001b[0;31m# Pausa de meio segundo\u001b[0m\u001b[0;34m\u001b[0m\u001b[0;34m\u001b[0m\u001b[0m\n\u001b[0m\u001b[1;32m     24\u001b[0m     \u001b[0;31m# Limpar a tela (pode variar dependendo do ambiente)\u001b[0m\u001b[0;34m\u001b[0m\u001b[0;34m\u001b[0m\u001b[0m\n\u001b[1;32m     25\u001b[0m     \u001b[0mprint\u001b[0m\u001b[0;34m(\u001b[0m\u001b[0;34m\"\\033c\"\u001b[0m\u001b[0;34m,\u001b[0m \u001b[0mend\u001b[0m\u001b[0;34m=\u001b[0m\u001b[0;34m\"\"\u001b[0m\u001b[0;34m)\u001b[0m\u001b[0;34m\u001b[0m\u001b[0;34m\u001b[0m\u001b[0m\n",
            "\u001b[0;31mKeyboardInterrupt\u001b[0m: "
          ]
        }
      ]
    },
    {
      "cell_type": "code",
      "source": [
        "lista_do_dicionario = list(meu_dicionario_grande.items())\n",
        "posicao_desejada = 299200\n",
        "chave, valor = lista_do_dicionario[posicao_desejada - 1]\n",
        "print(f\"Chave: {chave}, Valor: {valor}\")"
      ],
      "metadata": {
        "colab": {
          "base_uri": "https://localhost:8080/"
        },
        "id": "vS-DLM3LW7zj",
        "outputId": "52e204c1-9f78-4797-f240-60e26be960df"
      },
      "execution_count": null,
      "outputs": [
        {
          "output_type": "stream",
          "name": "stdout",
          "text": [
            "Chave: 299200, Valor: pzor\n"
          ]
        }
      ]
    },
    {
      "cell_type": "code",
      "source": [
        "chave, valor = list(meu_dicionario_grande.items())[2992 - 1]\n",
        "print(chave, valor)"
      ],
      "metadata": {
        "id": "Xs0LEyV8T1wM"
      },
      "execution_count": null,
      "outputs": []
    },
    {
      "cell_type": "code",
      "source": [],
      "metadata": {
        "id": "lPKhwJvPT1zI"
      },
      "execution_count": null,
      "outputs": []
    },
    {
      "cell_type": "code",
      "source": [
        "meu_dicionario = {'a': 1, 'b': 2, 'c': 3}\n",
        "\n",
        "# Obter a primeira chave e valor\n",
        "primeira_chave, primeiro_valor = next(iter(meu_dicionario.items()))\n",
        "print(primeira_chave, primeiro_valor)\n",
        "\n",
        "# Obter a segunda chave e valor\n",
        "segunda_chave, segundo_valor = list(meu_dicionario.items())[1]\n",
        "print(segunda_chave, segundo_valor)\n"
      ],
      "metadata": {
        "colab": {
          "base_uri": "https://localhost:8080/"
        },
        "id": "AkHwTkWxRMDv",
        "outputId": "2910f8c0-f642-4f9d-900d-4c7ec324fd9a"
      },
      "execution_count": null,
      "outputs": [
        {
          "output_type": "stream",
          "name": "stdout",
          "text": [
            "a 1\n",
            "b 2\n"
          ]
        }
      ]
    },
    {
      "cell_type": "code",
      "source": [],
      "metadata": {
        "id": "NkqIpGwiRMGa"
      },
      "execution_count": null,
      "outputs": []
    },
    {
      "cell_type": "code",
      "source": [],
      "metadata": {
        "id": "_3SGS94sLvYj"
      },
      "execution_count": null,
      "outputs": []
    },
    {
      "cell_type": "code",
      "source": [],
      "metadata": {
        "id": "ytLS_beZLv5Y"
      },
      "execution_count": null,
      "outputs": []
    },
    {
      "cell_type": "code",
      "source": [
        "def encontrar_sequencias_repetidas(dict1, dict2):\n",
        "    sequencias_repetidas = []\n",
        "\n",
        "    # Itera sobre as palavras no primeiro dicionário\n",
        "    for palavra, indices_dict1 in dict1.items():\n",
        "        if palavra in dict2:\n",
        "            indices_dict2 = dict2[palavra]\n",
        "\n",
        "            # Encontra as sequências repetidas\n",
        "            sequencias = encontrar_sequencias(indices_dict1, indices_dict2, palavra)\n",
        "\n",
        "            # Adiciona as sequências encontradas à lista\n",
        "            sequencias_repetidas.extend(sequencias)\n",
        "\n",
        "    return sequencias_repetidas\n",
        "\n",
        "def encontrar_sequencias(indices1, indices2, palavra):\n",
        "    sequencias = []\n",
        "    sequencia_atual = []\n",
        "\n",
        "    # Encontra as sequências comuns entre os dois conjuntos de índices\n",
        "    for indice1 in indices1:\n",
        "        if indice1 in indices2:\n",
        "            if not sequencia_atual or sequencia_atual[-1] == indice1 - 1:\n",
        "                sequencia_atual.append(indice1)\n",
        "            else:\n",
        "                sequencia_atual = [indice1]\n",
        "\n",
        "    if sequencia_atual:\n",
        "        sequencias.append((palavra, sequencia_atual[0], sequencia_atual[-1]))\n",
        "\n",
        "    return sequencias\n",
        "\n",
        "# Exemplo de uso\n",
        "dicionario1_palavra_indice = {'Essa': [0], 'pontuação': [1, 16], ',': [2, 11], 'se': [3, 12, 20], 'mistura': [4, 21], '.': [5, 19], '': [6, 10, 18], ';': [7], 'ou': [8], 'seja': [9], 'junta': [13], 'na': [14], 'palavra': [15], 'e': [17]}\n",
        "dicionario2_palavra_indice = {'Essa': [0], 'pontuação': [1, 16], ',': [2, 11], 'se': [3, 12, 20], 'mistura': [4, 21], '.': [5, 19], '': [6, 10, 18], ';': [7], 'isto': [8], 'é': [9], 'junta': [13], 'na': [14], 'palavra': [15], 'e': [17]}\n",
        "\n",
        "sequencias_repetidas = encontrar_sequencias_repetidas(dicionario1_palavra_indice, dicionario2_palavra_indice)\n",
        "\n",
        "# Exibir sequências repetidas\n",
        "print(\"Sequências Repetidas:\")\n",
        "print(sequencias_repetidas)\n"
      ],
      "metadata": {
        "colab": {
          "base_uri": "https://localhost:8080/"
        },
        "id": "w9ILs9yhAGUh",
        "outputId": "9a97b90c-3229-4a82-f9e5-5a35dd03fc69"
      },
      "execution_count": null,
      "outputs": [
        {
          "output_type": "stream",
          "name": "stdout",
          "text": [
            "Sequências Repetidas:\n",
            "[('Essa', 0, 0), ('pontuação', 16, 16), (',', 11, 11), ('se', 20, 20), ('mistura', 21, 21), ('.', 19, 19), ('', 18, 18), (';', 7, 7), ('junta', 13, 13), ('na', 14, 14), ('palavra', 15, 15), ('e', 17, 17)]\n"
          ]
        }
      ]
    },
    {
      "cell_type": "code",
      "source": [],
      "metadata": {
        "id": "ZmNTYFaxAGes"
      },
      "execution_count": null,
      "outputs": []
    },
    {
      "cell_type": "code",
      "source": [],
      "metadata": {
        "id": "vOCw8lU1IYet"
      },
      "execution_count": null,
      "outputs": []
    },
    {
      "cell_type": "code",
      "source": [],
      "metadata": {
        "id": "k5XNbWTmIYtJ"
      },
      "execution_count": null,
      "outputs": []
    },
    {
      "cell_type": "code",
      "source": [
        "Usar numeração pra comparar somente as frases\n",
        "Mas será bom tbm construir um que compare as frases com e sem numeração\n",
        "a idéia principal para facilitar vai ser enviar sem marcação, pedir pra traduzir. e posteriormente fazer as marcações e pedir pra traduzir novamente.\n",
        "\n",
        "Começar comparando o texto todo, e a partir daí dividir, e comparar novamente, depois ir dividindo em sequências menores, mas essas sequências menores uma vez tendo feito match terão que poder se expandir lateralmente"
      ],
      "metadata": {
        "id": "MjETc5yO6El1"
      },
      "execution_count": null,
      "outputs": []
    },
    {
      "cell_type": "code",
      "source": [
        "vou pegar os 2 textos, no caso as 2 traduções, e ver o maior trecho semelhante entre elas, isso eu já tenho um algoritmo que faz.\n",
        "\n",
        "Posteriormente eu vou marcar esses trechos coincidentes em negrito.\n",
        "\n",
        "pra facilitar a busca e evitar marcações sobrepostas eu posso ir eliminando o que já foi coincidente.\n",
        "\n",
        "Uma meneira menos morosa seria pegar uma palavra qualquer, podendo ser a primeira e ir vendo se a soma daquela palavra + as subsequentes vão dar match com o segundo texto"
      ],
      "metadata": {
        "id": "b-ao1b-96BL2"
      },
      "execution_count": null,
      "outputs": []
    },
    {
      "cell_type": "code",
      "source": [
        "É mesmo necessário aprender todas as coisas de novo do começo, não é melhor agir em cima de uma macrovariável, no caso perguntar uma ferramenta pronta pra poder fazer o serviço?"
      ],
      "metadata": {
        "id": "HJcCsGSUVCOx"
      },
      "execution_count": null,
      "outputs": []
    },
    {
      "cell_type": "code",
      "source": [],
      "metadata": {
        "id": "jcYGbni2VCdA"
      },
      "execution_count": null,
      "outputs": []
    },
    {
      "cell_type": "code",
      "source": [
        "pegar todo o histórico de conversa, separar as perguntas e suas respectivas respostas por tema, tamanho, palavras chave. Como fazer isso usando o menos possível o próprio chat?"
      ],
      "metadata": {
        "id": "YNRoSJCsTog0"
      },
      "execution_count": null,
      "outputs": []
    },
    {
      "cell_type": "code",
      "source": [
        "Eu posso pegar todas as perguntas e pedir o chat pra rotula-la por tema, e depois juntar. ou então tirando as palavras conectivas pegar as palavras chave e a partir daí pedir pra classificar essas palavras por temas.\n"
      ],
      "metadata": {
        "id": "HWwB59hWVDb5"
      },
      "execution_count": null,
      "outputs": []
    },
    {
      "cell_type": "code",
      "source": [
        "translation1 = \"\"\"\n",
        "A teoria da relatividade geral de Einstein é uma das teorias mais importantes da física moderna. Ela descreve a gravidade como uma curvatura do espaço-tempo causada pela presença de massa e energia. A teoria foi publicada pela primeira vez em 1915 e desde então tem sido confirmada por muitas observações e experimentos.\n",
        "\n",
        "A relatividade geral é uma teoria muito diferente da física clássica. Na física clássica, a gravidade é vista como uma força que age entre objetos com massa. Na relatividade geral, a gravidade é vista como uma curvatura do espaço-tempo causada pela presença de massa e energia. Isso significa que a gravidade não é uma força no sentido clássico, mas sim uma consequência da geometria do espaço-tempo.\n",
        "\n",
        "A relatividade geral também prevê que o tempo passa mais devagar em regiões com maior gravidade. Isso foi confirmado por experimentos em satélites GPS, que precisam levar em conta a dilatação do tempo para funcionar corretamente.\n",
        "\n",
        "A relatividade geral tem muitas aplicações práticas, incluindo a previsão da existência de buracos negros e ondas gravitacionais. Ela também é importante para a cosmologia, pois descreve a evolução do universo como um todo.\n",
        "\n",
        "Espero que isso ajude! 😊\n",
        "\n",
        "\"\"\""
      ],
      "metadata": {
        "id": "OPu1zsLBsKuX"
      },
      "execution_count": null,
      "outputs": []
    },
    {
      "cell_type": "code",
      "source": [
        "translation2 = \"\"\"\n",
        "A teoria da relatividade geral de Einstein é uma das teorias mais importantes da física moderna. Ela descreve a gravidade como uma curvatura do espaço-tempo causada pela presença de massa e energia. A teoria foi publicada pela primeira vez em 1915 e desde então tem sido confirmada por muitas observações e experimentos.\n",
        "\n",
        "A relatividade geral é uma teoria muito diferente da física clássica. Na física clássica, a gravidade é vista como uma força que age entre objetos com massa. Na relatividade geral, a gravidade é vista como uma curvatura do espaço-tempo causada pela presença de massa e energia. Isso significa que a gravidade não é uma força no sentido clássico, mas sim uma consequência da geometria do espaço-tempo.\n",
        "\n",
        "A relatividade geral também prevê que o tempo passa mais devagar em regiões com maior gravidade. Isso foi evidenciado por experimentos em satélites GPS, que precisam levar em conta a dilatação do tempo para funcionar corretamente.\n",
        "\n",
        "A relatividade geral tem muitas aplicações práticas, incluindo a previsão da existência de buracos negros e ondas gravitacionais. Ela também é importante para a cosmologia, pois descreve a evolução do universo como um todo.\n",
        "\n",
        "Espero que isso ajude! 😊\n",
        "\"\"\"\n",
        "compare_translations(translation1, translation2)"
      ],
      "metadata": {
        "colab": {
          "base_uri": "https://localhost:8080/",
          "height": 218
        },
        "id": "4c4qb5UgsS3Q",
        "outputId": "ccedfed2-b90b-40a1-9f82-30d400d75094"
      },
      "execution_count": null,
      "outputs": [
        {
          "output_type": "error",
          "ename": "NameError",
          "evalue": "name 'compare_translations' is not defined",
          "traceback": [
            "\u001b[0;31m---------------------------------------------------------------------------\u001b[0m",
            "\u001b[0;31mNameError\u001b[0m                                 Traceback (most recent call last)",
            "\u001b[0;32m<ipython-input-3-74dbffc67f5e>\u001b[0m in \u001b[0;36m<cell line: 12>\u001b[0;34m()\u001b[0m\n\u001b[1;32m     10\u001b[0m \u001b[0mEspero\u001b[0m \u001b[0mque\u001b[0m \u001b[0misso\u001b[0m \u001b[0majude\u001b[0m\u001b[0;31m!\u001b[0m\u001b[0;31m \u001b[0m\u001b[0;31m😊\u001b[0m\u001b[0;34m\u001b[0m\u001b[0;34m\u001b[0m\u001b[0m\n\u001b[1;32m     11\u001b[0m \"\"\"\n\u001b[0;32m---> 12\u001b[0;31m \u001b[0mcompare_translations\u001b[0m\u001b[0;34m(\u001b[0m\u001b[0mtranslation1\u001b[0m\u001b[0;34m,\u001b[0m \u001b[0mtranslation2\u001b[0m\u001b[0;34m)\u001b[0m\u001b[0;34m\u001b[0m\u001b[0;34m\u001b[0m\u001b[0m\n\u001b[0m",
            "\u001b[0;31mNameError\u001b[0m: name 'compare_translations' is not defined"
          ]
        }
      ]
    },
    {
      "cell_type": "code",
      "source": [
        "import difflib\n",
        "\n",
        "def compare_translations(translation1, translation2):\n",
        "    # Split the translations into lines\n",
        "    lines1 = translation1.splitlines()\n",
        "    lines2 = translation2.splitlines()\n",
        "\n",
        "    # Create a SequenceMatcher object\n",
        "    matcher = difflib.SequenceMatcher(None, lines1, lines2)\n",
        "\n",
        "    # Get the matching blocks\n",
        "    matching_blocks = matcher.get_matching_blocks()\n",
        "\n",
        "    # Print the matching blocks\n",
        "    for block in matching_blocks:\n",
        "        if block.size > 0:\n",
        "            print(\"Match found at lines %d-%d: %s\" % (block.a, block.a + block.size - 1, lines1[block.a:block.a + block.size]))\n"
      ],
      "metadata": {
        "id": "J0dVYan2sDeZ"
      },
      "execution_count": null,
      "outputs": []
    },
    {
      "cell_type": "code",
      "source": [
        "import difflib\n",
        "\n",
        "def comparar_traducoes(traducao1, traducao2):\n",
        "    # Separe as traduções em linhas\n",
        "    linhas1 = traducao1.splitlines()\n",
        "    linhas2 = traducao2.splitlines()\n",
        "\n",
        "    # Use a biblioteca difflib para comparar as linhas\n",
        "    comparador = difflib.SequenceMatcher(None, linhas1, linhas2)\n",
        "\n",
        "    # Obtenha as operações de diferença\n",
        "    operacoes = comparador.get_opcodes()\n",
        "\n",
        "    # Exiba as similaridades\n",
        "    for tag, i1, i2, j1, j2 in operacoes:\n",
        "        if tag in ['replace', 'equal']:\n",
        "            print(tag, linhas1[i1:i2], linhas2[j1:j2])\n",
        "\n",
        "# Exemplo de uso\n",
        "traducao1 = \"Esta é a primeira tradução.\\nEla contém algumas diferenças.\"\n",
        "traducao2 = \"Esta é a segunda tradução.\\nEla tem algumas diferenças.\"\n",
        "\n",
        "comparar_traducoes(traducao1, traducao2)\n"
      ],
      "metadata": {
        "colab": {
          "base_uri": "https://localhost:8080/"
        },
        "id": "traV94OLvjEG",
        "outputId": "0d11e68b-a02b-432d-bc6c-6384a67d4cde"
      },
      "execution_count": null,
      "outputs": [
        {
          "output_type": "stream",
          "name": "stdout",
          "text": [
            "replace ['Esta é a primeira tradução.', 'Ela contém algumas diferenças.'] ['Esta é a segunda tradução.', 'Ela tem algumas diferenças.']\n"
          ]
        }
      ]
    },
    {
      "cell_type": "code",
      "source": [
        "import difflib\n",
        "\n",
        "def compare_translations(translation1, translation2):\n",
        "  \"\"\"Compara duas traduções diferentes e marca os trechos similares entre elas.\"\"\"\n",
        "\n",
        "  sm = difflib.SequenceMatcher(None, translation1, translation2)\n",
        "  matching_blocks = sm.get_matching_blocks()\n",
        "\n",
        "  similar_segments = []\n",
        "  for block in matching_blocks:\n",
        "    start1, end1 = block[0], block[0] + block[2]  # Índices na primeira tradução\n",
        "    start2, end2 = block[1], block[1] + block[2]  # Índices na segunda tradução\n",
        "    similar_segment = (translation1[start1:end1], translation2[start2:end2])\n",
        "    similar_segments.append(similar_segment)\n",
        "\n",
        "  return similar_segments\n",
        "\n",
        "\n",
        "\n",
        "# Exemplo de uso.\n",
        "translation1 = \"A casa é grande.\"\n",
        "translation2 = \"A casa é enorme.\"\n",
        "\n",
        "similar_segments = compare_translations(translation1, translation2)\n",
        "\n",
        "for similar_segment in similar_segments:\n",
        "  print(similar_segment)\n"
      ],
      "metadata": {
        "colab": {
          "base_uri": "https://localhost:8080/"
        },
        "id": "oOoUQe6TvjGU",
        "outputId": "0212ec96-4c88-45d9-ca8b-b2d4a61343c3"
      },
      "execution_count": null,
      "outputs": [
        {
          "output_type": "stream",
          "name": "stdout",
          "text": [
            "('A casa é ', 'A casa é ')\n",
            "('r', 'r')\n",
            "('e.', 'e.')\n",
            "('', '')\n"
          ]
        }
      ]
    },
    {
      "cell_type": "code",
      "source": [],
      "metadata": {
        "id": "N4BnbVZFvjJI"
      },
      "execution_count": null,
      "outputs": []
    },
    {
      "cell_type": "code",
      "source": [],
      "metadata": {
        "id": "0dsZthN1VDe4"
      },
      "execution_count": null,
      "outputs": []
    }
  ]
}