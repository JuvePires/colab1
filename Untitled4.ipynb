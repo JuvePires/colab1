{
  "nbformat": 4,
  "nbformat_minor": 0,
  "metadata": {
    "colab": {
      "provenance": [],
      "authorship_tag": "ABX9TyPmJ8+vW5mKS9glhYM+tXCw"
    },
    "kernelspec": {
      "name": "python3",
      "display_name": "Python 3"
    },
    "language_info": {
      "name": "python"
    }
  },
  "cells": [
    {
      "cell_type": "code",
      "execution_count": null,
      "metadata": {
        "id": "KXGDHcW6Sx-r"
      },
      "outputs": [],
      "source": []
    },
    {
      "cell_type": "code",
      "source": [
        "Eu vou pegar algumas palavras ao longo do texto e vou encontrar outra similar no outro e ir caminhando tanto de um lado quanto de outro dela."
      ],
      "metadata": {
        "id": "P-6qK9vW6EY4"
      },
      "execution_count": null,
      "outputs": []
    },
    {
      "cell_type": "code",
      "source": [
        "import string\n",
        "\n",
        "def texto_para_dicionarios(texto):\n",
        "    palavras = texto.split()  # Divide o texto em palavras\n",
        "    palavras_com_pontuacao = []\n",
        "\n",
        "    for palavra in palavras:\n",
        "        # Remove a pontuação anexada e adiciona a palavra\n",
        "        palavra_sem_pontuacao = palavra.strip(string.punctuation)\n",
        "        palavras_com_pontuacao.append(palavra_sem_pontuacao)\n",
        "\n",
        "        # Adiciona a pontuação como uma palavra separada\n",
        "        if palavra_sem_pontuacao != palavra:\n",
        "            palavras_com_pontuacao.append(palavra[len(palavra_sem_pontuacao):])\n",
        "\n",
        "    dicionario_palavra_indice = {}\n",
        "    dicionario_indice_palavra = {}\n",
        "\n",
        "    for indice, palavra in enumerate(palavras_com_pontuacao):\n",
        "        # Se a palavra já está no dicionário, adiciona o novo índice à lista existente\n",
        "        if palavra in dicionario_palavra_indice:\n",
        "            dicionario_palavra_indice[palavra].append(indice)\n",
        "        else:\n",
        "            # Se a palavra não está no dicionário, cria uma nova entrada\n",
        "            dicionario_palavra_indice[palavra] = [indice]\n",
        "\n",
        "        # Adiciona a palavra ao dicionário índice-palavra (sobrescrevendo índices anteriores)\n",
        "        dicionario_indice_palavra[indice] = palavra\n",
        "\n",
        "    return dicionario_palavra_indice, dicionario_indice_palavra\n"
      ],
      "metadata": {
        "id": "ygmIU_r_AGO2"
      },
      "execution_count": 23,
      "outputs": []
    },
    {
      "cell_type": "code",
      "source": [
        "# Exemplo de uso\n",
        "texto_entrada = \"Essa pontuação, se mistura. ; ou seja , se junta na palavra pontuação e . se mistura\"\n",
        "texto_entrada1 = \"testee Essa pontuação, se mistura. ; isto é , se junta na palavra pontuação e . se mistura\"\n",
        "resultado_palavra_indice, resultado_indice_palavra = texto_para_dicionarios(texto_entrada)\n",
        "resultado_palavra_indice1, resultado_indice_palavra1 = texto_para_dicionarios(texto_entrada1)\n",
        "\n",
        "# Exibir os dicionários resultantes\n",
        "print(\"Dicionário Palavra-Índice:\")\n",
        "print(resultado_palavra_indice)\n",
        "\n",
        "print(\"\\nDicionário Índice-Palavra:\")\n",
        "print(resultado_indice_palavra)\n",
        "\n",
        "\n",
        "# Exibir os dicionários resultantes\n",
        "print(\"Dicionário Palavra-Índice:\")\n",
        "print(resultado_palavra_indice1)\n",
        "\n",
        "print(\"\\nDicionário Índice-Palavra:\")\n",
        "print(resultado_indice_palavra1)"
      ],
      "metadata": {
        "colab": {
          "base_uri": "https://localhost:8080/"
        },
        "id": "c82EsvrEDCxR",
        "outputId": "80cfcb38-8f96-4f09-cd63-c9c8ea0555af"
      },
      "execution_count": 42,
      "outputs": [
        {
          "output_type": "stream",
          "name": "stdout",
          "text": [
            "Dicionário Palavra-Índice:\n",
            "{'Essa': [0], 'pontuação': [1, 16], ',': [2, 11], 'se': [3, 12, 20], 'mistura': [4, 21], '.': [5, 19], '': [6, 10, 18], ';': [7], 'ou': [8], 'seja': [9], 'junta': [13], 'na': [14], 'palavra': [15], 'e': [17]}\n",
            "\n",
            "Dicionário Índice-Palavra:\n",
            "{0: 'Essa', 1: 'pontuação', 2: ',', 3: 'se', 4: 'mistura', 5: '.', 6: '', 7: ';', 8: 'ou', 9: 'seja', 10: '', 11: ',', 12: 'se', 13: 'junta', 14: 'na', 15: 'palavra', 16: 'pontuação', 17: 'e', 18: '', 19: '.', 20: 'se', 21: 'mistura'}\n",
            "Dicionário Palavra-Índice:\n",
            "{'testee': [0], 'Essa': [1], 'pontuação': [2, 17], ',': [3, 12], 'se': [4, 13, 21], 'mistura': [5, 22], '.': [6, 20], '': [7, 11, 19], ';': [8], 'isto': [9], 'é': [10], 'junta': [14], 'na': [15], 'palavra': [16], 'e': [18]}\n",
            "\n",
            "Dicionário Índice-Palavra:\n",
            "{0: 'testee', 1: 'Essa', 2: 'pontuação', 3: ',', 4: 'se', 5: 'mistura', 6: '.', 7: '', 8: ';', 9: 'isto', 10: 'é', 11: '', 12: ',', 13: 'se', 14: 'junta', 15: 'na', 16: 'palavra', 17: 'pontuação', 18: 'e', 19: '', 20: '.', 21: 'se', 22: 'mistura'}\n"
          ]
        }
      ]
    },
    {
      "cell_type": "code",
      "source": [
        "primeira_chave, primeiro_valor = next(iter(resultado_palavra_indice.items()))\n",
        "print(primeira_chave, primeiro_valor)"
      ],
      "metadata": {
        "colab": {
          "base_uri": "https://localhost:8080/"
        },
        "id": "pBYxbvZELvVz",
        "outputId": "02967f2c-f630-44b1-bdb2-5621864c397f"
      },
      "execution_count": 47,
      "outputs": [
        {
          "output_type": "stream",
          "name": "stdout",
          "text": [
            "Essa [0]\n"
          ]
        }
      ]
    },
    {
      "cell_type": "code",
      "source": [
        "chave_essa = 'Essa'\n",
        "valores_essa = resultado_palavra_indice1[chave_essa]\n",
        "print(f'Valores associados à chave \"{chave_essa}\": {valores_essa}')"
      ],
      "metadata": {
        "colab": {
          "base_uri": "https://localhost:8080/"
        },
        "id": "p3r6HucZSAaW",
        "outputId": "f8a54e69-5cc3-402d-da88-146d4569de99"
      },
      "execution_count": 50,
      "outputs": [
        {
          "output_type": "stream",
          "name": "stdout",
          "text": [
            "Valores associados à chave \"Essa\": [1]\n"
          ]
        }
      ]
    },
    {
      "cell_type": "code",
      "source": [],
      "metadata": {
        "id": "46avDzmQSApH"
      },
      "execution_count": 82,
      "outputs": []
    },
    {
      "cell_type": "code",
      "source": [
        "import time\n",
        "\n",
        "def gerar_sequencia(n):\n",
        "    sequencia = []\n",
        "    for i in range(n):\n",
        "        termo = \"\"\n",
        "        j = i\n",
        "        while j >= 0:\n",
        "            termo = chr(97 + (j % 26)) + termo\n",
        "            j = j // 26 - 1\n",
        "        sequencia.append(termo)\n",
        "    return sequencia\n",
        "\n",
        "# Gerar sequência com os primeiros 30 termos como exemplo\n",
        "termos_gerados = gerar_sequencia(3000000)\n",
        "\n",
        "# Armazenar os termos gerados em um dicionário\n",
        "meu_dicionario_grande = {i: termo for i, termo in enumerate(termos_gerados, 1)}\n",
        "\n",
        "# Exibir os termos gerados dentro do dicionário de trás para frente\n",
        "for chave, valor in reversed(list(meu_dicionario_grande.items())):\n",
        "    print(f\"{chave}: {valor}\")\n",
        "    time.sleep(0.5)  # Pausa de meio segundo\n",
        "    # Limpar a tela (pode variar dependendo do ambiente)\n",
        "    print(\"\\033c\", end=\"\")\n"
      ],
      "metadata": {
        "colab": {
          "base_uri": "https://localhost:8080/",
          "height": 438
        },
        "id": "S_G0AI0bWLUP",
        "outputId": "079e6fcb-7cd0-4572-fb01-75bca813f919"
      },
      "execution_count": 85,
      "outputs": [
        {
          "output_type": "stream",
          "name": "stdout",
          "text": [
            "3000000: fnqvp\n",
            "\u001bc2999999: fnqvo\n",
            "\u001bc2999998: fnqvn\n",
            "\u001bc2999997: fnqvm\n",
            "\u001bc2999996: fnqvl\n",
            "\u001bc2999995: fnqvk\n",
            "\u001bc2999994: fnqvj\n",
            "\u001bc2999993: fnqvi\n",
            "\u001bc2999992: fnqvh\n",
            "\u001bc2999991: fnqvg\n"
          ]
        },
        {
          "output_type": "error",
          "ename": "KeyboardInterrupt",
          "evalue": "",
          "traceback": [
            "\u001b[0;31m---------------------------------------------------------------------------\u001b[0m",
            "\u001b[0;31mKeyboardInterrupt\u001b[0m                         Traceback (most recent call last)",
            "\u001b[0;32m<ipython-input-85-00e122487e41>\u001b[0m in \u001b[0;36m<cell line: 21>\u001b[0;34m()\u001b[0m\n\u001b[1;32m     21\u001b[0m \u001b[0;32mfor\u001b[0m \u001b[0mchave\u001b[0m\u001b[0;34m,\u001b[0m \u001b[0mvalor\u001b[0m \u001b[0;32min\u001b[0m \u001b[0mreversed\u001b[0m\u001b[0;34m(\u001b[0m\u001b[0mlist\u001b[0m\u001b[0;34m(\u001b[0m\u001b[0mmeu_dicionario_grande\u001b[0m\u001b[0;34m.\u001b[0m\u001b[0mitems\u001b[0m\u001b[0;34m(\u001b[0m\u001b[0;34m)\u001b[0m\u001b[0;34m)\u001b[0m\u001b[0;34m)\u001b[0m\u001b[0;34m:\u001b[0m\u001b[0;34m\u001b[0m\u001b[0;34m\u001b[0m\u001b[0m\n\u001b[1;32m     22\u001b[0m     \u001b[0mprint\u001b[0m\u001b[0;34m(\u001b[0m\u001b[0;34mf\"{chave}: {valor}\"\u001b[0m\u001b[0;34m)\u001b[0m\u001b[0;34m\u001b[0m\u001b[0;34m\u001b[0m\u001b[0m\n\u001b[0;32m---> 23\u001b[0;31m     \u001b[0mtime\u001b[0m\u001b[0;34m.\u001b[0m\u001b[0msleep\u001b[0m\u001b[0;34m(\u001b[0m\u001b[0;36m0.5\u001b[0m\u001b[0;34m)\u001b[0m  \u001b[0;31m# Pausa de meio segundo\u001b[0m\u001b[0;34m\u001b[0m\u001b[0;34m\u001b[0m\u001b[0m\n\u001b[0m\u001b[1;32m     24\u001b[0m     \u001b[0;31m# Limpar a tela (pode variar dependendo do ambiente)\u001b[0m\u001b[0;34m\u001b[0m\u001b[0;34m\u001b[0m\u001b[0m\n\u001b[1;32m     25\u001b[0m     \u001b[0mprint\u001b[0m\u001b[0;34m(\u001b[0m\u001b[0;34m\"\\033c\"\u001b[0m\u001b[0;34m,\u001b[0m \u001b[0mend\u001b[0m\u001b[0;34m=\u001b[0m\u001b[0;34m\"\"\u001b[0m\u001b[0;34m)\u001b[0m\u001b[0;34m\u001b[0m\u001b[0;34m\u001b[0m\u001b[0m\n",
            "\u001b[0;31mKeyboardInterrupt\u001b[0m: "
          ]
        }
      ]
    },
    {
      "cell_type": "code",
      "source": [
        "lista_do_dicionario = list(meu_dicionario_grande.items())\n",
        "posicao_desejada = 299200\n",
        "chave, valor = lista_do_dicionario[posicao_desejada - 1]\n",
        "print(f\"Chave: {chave}, Valor: {valor}\")"
      ],
      "metadata": {
        "colab": {
          "base_uri": "https://localhost:8080/"
        },
        "id": "vS-DLM3LW7zj",
        "outputId": "e1fac6a6-e8a1-473b-cf7b-d0a4b6b3d24e"
      },
      "execution_count": 86,
      "outputs": [
        {
          "output_type": "stream",
          "name": "stdout",
          "text": [
            "Chave: 299200, Valor: pzor\n"
          ]
        }
      ]
    },
    {
      "cell_type": "code",
      "source": [],
      "metadata": {
        "id": "Xs0LEyV8T1wM"
      },
      "execution_count": null,
      "outputs": []
    },
    {
      "cell_type": "code",
      "source": [],
      "metadata": {
        "id": "lPKhwJvPT1zI"
      },
      "execution_count": null,
      "outputs": []
    },
    {
      "cell_type": "code",
      "source": [
        "meu_dicionario = {'a': 1, 'b': 2, 'c': 3}\n",
        "\n",
        "# Obter a primeira chave e valor\n",
        "primeira_chave, primeiro_valor = next(iter(meu_dicionario.items()))\n",
        "print(primeira_chave, primeiro_valor)\n",
        "\n",
        "# Obter a segunda chave e valor\n",
        "segunda_chave, segundo_valor = list(meu_dicionario.items())[1]\n",
        "print(segunda_chave, segundo_valor)\n"
      ],
      "metadata": {
        "colab": {
          "base_uri": "https://localhost:8080/"
        },
        "id": "AkHwTkWxRMDv",
        "outputId": "2910f8c0-f642-4f9d-900d-4c7ec324fd9a"
      },
      "execution_count": 45,
      "outputs": [
        {
          "output_type": "stream",
          "name": "stdout",
          "text": [
            "a 1\n",
            "b 2\n"
          ]
        }
      ]
    },
    {
      "cell_type": "code",
      "source": [],
      "metadata": {
        "id": "NkqIpGwiRMGa"
      },
      "execution_count": null,
      "outputs": []
    },
    {
      "cell_type": "code",
      "source": [],
      "metadata": {
        "id": "_3SGS94sLvYj"
      },
      "execution_count": 40,
      "outputs": []
    },
    {
      "cell_type": "code",
      "source": [],
      "metadata": {
        "id": "ytLS_beZLv5Y"
      },
      "execution_count": null,
      "outputs": []
    },
    {
      "cell_type": "code",
      "source": [
        "def encontrar_sequencias_repetidas(dict1, dict2):\n",
        "    sequencias_repetidas = []\n",
        "\n",
        "    # Itera sobre as palavras no primeiro dicionário\n",
        "    for palavra, indices_dict1 in dict1.items():\n",
        "        if palavra in dict2:\n",
        "            indices_dict2 = dict2[palavra]\n",
        "\n",
        "            # Encontra as sequências repetidas\n",
        "            sequencias = encontrar_sequencias(indices_dict1, indices_dict2, palavra)\n",
        "\n",
        "            # Adiciona as sequências encontradas à lista\n",
        "            sequencias_repetidas.extend(sequencias)\n",
        "\n",
        "    return sequencias_repetidas\n",
        "\n",
        "def encontrar_sequencias(indices1, indices2, palavra):\n",
        "    sequencias = []\n",
        "    sequencia_atual = []\n",
        "\n",
        "    # Encontra as sequências comuns entre os dois conjuntos de índices\n",
        "    for indice1 in indices1:\n",
        "        if indice1 in indices2:\n",
        "            if not sequencia_atual or sequencia_atual[-1] == indice1 - 1:\n",
        "                sequencia_atual.append(indice1)\n",
        "            else:\n",
        "                sequencia_atual = [indice1]\n",
        "\n",
        "    if sequencia_atual:\n",
        "        sequencias.append((palavra, sequencia_atual[0], sequencia_atual[-1]))\n",
        "\n",
        "    return sequencias\n",
        "\n",
        "# Exemplo de uso\n",
        "dicionario1_palavra_indice = {'Essa': [0], 'pontuação': [1, 16], ',': [2, 11], 'se': [3, 12, 20], 'mistura': [4, 21], '.': [5, 19], '': [6, 10, 18], ';': [7], 'ou': [8], 'seja': [9], 'junta': [13], 'na': [14], 'palavra': [15], 'e': [17]}\n",
        "dicionario2_palavra_indice = {'Essa': [0], 'pontuação': [1, 16], ',': [2, 11], 'se': [3, 12, 20], 'mistura': [4, 21], '.': [5, 19], '': [6, 10, 18], ';': [7], 'isto': [8], 'é': [9], 'junta': [13], 'na': [14], 'palavra': [15], 'e': [17]}\n",
        "\n",
        "sequencias_repetidas = encontrar_sequencias_repetidas(dicionario1_palavra_indice, dicionario2_palavra_indice)\n",
        "\n",
        "# Exibir sequências repetidas\n",
        "print(\"Sequências Repetidas:\")\n",
        "print(sequencias_repetidas)\n"
      ],
      "metadata": {
        "colab": {
          "base_uri": "https://localhost:8080/"
        },
        "id": "w9ILs9yhAGUh",
        "outputId": "9a97b90c-3229-4a82-f9e5-5a35dd03fc69"
      },
      "execution_count": 30,
      "outputs": [
        {
          "output_type": "stream",
          "name": "stdout",
          "text": [
            "Sequências Repetidas:\n",
            "[('Essa', 0, 0), ('pontuação', 16, 16), (',', 11, 11), ('se', 20, 20), ('mistura', 21, 21), ('.', 19, 19), ('', 18, 18), (';', 7, 7), ('junta', 13, 13), ('na', 14, 14), ('palavra', 15, 15), ('e', 17, 17)]\n"
          ]
        }
      ]
    },
    {
      "cell_type": "code",
      "source": [],
      "metadata": {
        "id": "ZmNTYFaxAGes"
      },
      "execution_count": null,
      "outputs": []
    },
    {
      "cell_type": "code",
      "source": [],
      "metadata": {
        "id": "vOCw8lU1IYet"
      },
      "execution_count": null,
      "outputs": []
    },
    {
      "cell_type": "code",
      "source": [],
      "metadata": {
        "id": "k5XNbWTmIYtJ"
      },
      "execution_count": null,
      "outputs": []
    },
    {
      "cell_type": "code",
      "source": [
        "Usar numeração pra comparar somente as frases\n",
        "Mas será bom tbm construir um que compare as frases com e sem numeração\n",
        "a idéia principal para facilitar vai ser enviar sem marcação, pedir pra traduzir. e posteriormente fazer as marcações e pedir pra traduzir novamente.\n",
        "\n",
        "Começar comparando o texto todo, e a partir daí dividir, e comparar novamente, depois ir dividindo em sequências menores, mas essas sequências menores uma vez tendo feito match terão que poder se expandir lateralmente"
      ],
      "metadata": {
        "id": "MjETc5yO6El1"
      },
      "execution_count": null,
      "outputs": []
    },
    {
      "cell_type": "code",
      "source": [
        "vou pegar os 2 textos, no caso as 2 traduções, e ver o maior trecho semelhante entre elas, isso eu já tenho um algoritmo que faz.\n",
        "\n",
        "Posteriormente eu vou marcar esses trechos coincidentes em negrito.\n",
        "\n",
        "pra facilitar a busca e evitar marcações sobrepostas eu posso ir eliminando o que já foi coincidente.\n",
        "\n",
        "Uma meneira menos morosa seria pegar uma palavra qualquer, podendo ser a primeira e ir vendo se a soma daquela palavra + as subsequentes vão dar match com o segundo texto"
      ],
      "metadata": {
        "id": "b-ao1b-96BL2"
      },
      "execution_count": null,
      "outputs": []
    },
    {
      "cell_type": "code",
      "source": [
        "É mesmo necessário aprender todas as coisas de novo do começo, não é melhor agir em cima de uma macrovariável, no caso perguntar uma ferramenta pronta pra poder fazer o serviço?"
      ],
      "metadata": {
        "id": "HJcCsGSUVCOx"
      },
      "execution_count": null,
      "outputs": []
    },
    {
      "cell_type": "code",
      "source": [],
      "metadata": {
        "id": "jcYGbni2VCdA"
      },
      "execution_count": null,
      "outputs": []
    },
    {
      "cell_type": "code",
      "source": [
        "pegar todo o histórico de conversa, separar as perguntas e suas respectivas respostas por tema, tamanho, palavras chave. Como fazer isso usando o menos possível o próprio chat?"
      ],
      "metadata": {
        "id": "YNRoSJCsTog0"
      },
      "execution_count": null,
      "outputs": []
    },
    {
      "cell_type": "code",
      "source": [
        "Eu posso pegar todas as perguntas e pedir o chat pra rotula-la por tema, e depois juntar. ou então tirando as palavras conectivas pegar as palavras chave e a partir daí pedir pra classificar essas palavras por temas.\n"
      ],
      "metadata": {
        "id": "HWwB59hWVDb5"
      },
      "execution_count": null,
      "outputs": []
    },
    {
      "cell_type": "code",
      "source": [
        "translation1 = \"\"\"\n",
        "A teoria da relatividade geral de Einstein é uma das teorias mais importantes da física moderna. Ela descreve a gravidade como uma curvatura do espaço-tempo causada pela presença de massa e energia. A teoria foi publicada pela primeira vez em 1915 e desde então tem sido confirmada por muitas observações e experimentos.\n",
        "\n",
        "A relatividade geral é uma teoria muito diferente da física clássica. Na física clássica, a gravidade é vista como uma força que age entre objetos com massa. Na relatividade geral, a gravidade é vista como uma curvatura do espaço-tempo causada pela presença de massa e energia. Isso significa que a gravidade não é uma força no sentido clássico, mas sim uma consequência da geometria do espaço-tempo.\n",
        "\n",
        "A relatividade geral também prevê que o tempo passa mais devagar em regiões com maior gravidade. Isso foi confirmado por experimentos em satélites GPS, que precisam levar em conta a dilatação do tempo para funcionar corretamente.\n",
        "\n",
        "A relatividade geral tem muitas aplicações práticas, incluindo a previsão da existência de buracos negros e ondas gravitacionais. Ela também é importante para a cosmologia, pois descreve a evolução do universo como um todo.\n",
        "\n",
        "Espero que isso ajude! 😊\n",
        "\n",
        "\"\"\""
      ],
      "metadata": {
        "id": "OPu1zsLBsKuX"
      },
      "execution_count": 1,
      "outputs": []
    },
    {
      "cell_type": "code",
      "source": [
        "translation2 = \"\"\"\n",
        "A teoria da relatividade geral de Einstein é uma das teorias mais importantes da física moderna. Ela descreve a gravidade como uma curvatura do espaço-tempo causada pela presença de massa e energia. A teoria foi publicada pela primeira vez em 1915 e desde então tem sido confirmada por muitas observações e experimentos.\n",
        "\n",
        "A relatividade geral é uma teoria muito diferente da física clássica. Na física clássica, a gravidade é vista como uma força que age entre objetos com massa. Na relatividade geral, a gravidade é vista como uma curvatura do espaço-tempo causada pela presença de massa e energia. Isso significa que a gravidade não é uma força no sentido clássico, mas sim uma consequência da geometria do espaço-tempo.\n",
        "\n",
        "A relatividade geral também prevê que o tempo passa mais devagar em regiões com maior gravidade. Isso foi evidenciado por experimentos em satélites GPS, que precisam levar em conta a dilatação do tempo para funcionar corretamente.\n",
        "\n",
        "A relatividade geral tem muitas aplicações práticas, incluindo a previsão da existência de buracos negros e ondas gravitacionais. Ela também é importante para a cosmologia, pois descreve a evolução do universo como um todo.\n",
        "\n",
        "Espero que isso ajude! 😊\n",
        "\"\"\"\n",
        "compare_translations(translation1, translation2)"
      ],
      "metadata": {
        "colab": {
          "base_uri": "https://localhost:8080/",
          "height": 218
        },
        "id": "4c4qb5UgsS3Q",
        "outputId": "ccedfed2-b90b-40a1-9f82-30d400d75094"
      },
      "execution_count": 3,
      "outputs": [
        {
          "output_type": "error",
          "ename": "NameError",
          "evalue": "name 'compare_translations' is not defined",
          "traceback": [
            "\u001b[0;31m---------------------------------------------------------------------------\u001b[0m",
            "\u001b[0;31mNameError\u001b[0m                                 Traceback (most recent call last)",
            "\u001b[0;32m<ipython-input-3-74dbffc67f5e>\u001b[0m in \u001b[0;36m<cell line: 12>\u001b[0;34m()\u001b[0m\n\u001b[1;32m     10\u001b[0m \u001b[0mEspero\u001b[0m \u001b[0mque\u001b[0m \u001b[0misso\u001b[0m \u001b[0majude\u001b[0m\u001b[0;31m!\u001b[0m\u001b[0;31m \u001b[0m\u001b[0;31m😊\u001b[0m\u001b[0;34m\u001b[0m\u001b[0;34m\u001b[0m\u001b[0m\n\u001b[1;32m     11\u001b[0m \"\"\"\n\u001b[0;32m---> 12\u001b[0;31m \u001b[0mcompare_translations\u001b[0m\u001b[0;34m(\u001b[0m\u001b[0mtranslation1\u001b[0m\u001b[0;34m,\u001b[0m \u001b[0mtranslation2\u001b[0m\u001b[0;34m)\u001b[0m\u001b[0;34m\u001b[0m\u001b[0;34m\u001b[0m\u001b[0m\n\u001b[0m",
            "\u001b[0;31mNameError\u001b[0m: name 'compare_translations' is not defined"
          ]
        }
      ]
    },
    {
      "cell_type": "code",
      "source": [
        "import difflib\n",
        "\n",
        "def compare_translations(translation1, translation2):\n",
        "    # Split the translations into lines\n",
        "    lines1 = translation1.splitlines()\n",
        "    lines2 = translation2.splitlines()\n",
        "\n",
        "    # Create a SequenceMatcher object\n",
        "    matcher = difflib.SequenceMatcher(None, lines1, lines2)\n",
        "\n",
        "    # Get the matching blocks\n",
        "    matching_blocks = matcher.get_matching_blocks()\n",
        "\n",
        "    # Print the matching blocks\n",
        "    for block in matching_blocks:\n",
        "        if block.size > 0:\n",
        "            print(\"Match found at lines %d-%d: %s\" % (block.a, block.a + block.size - 1, lines1[block.a:block.a + block.size]))\n"
      ],
      "metadata": {
        "id": "J0dVYan2sDeZ"
      },
      "execution_count": null,
      "outputs": []
    },
    {
      "cell_type": "code",
      "source": [
        "import difflib\n",
        "\n",
        "def comparar_traducoes(traducao1, traducao2):\n",
        "    # Separe as traduções em linhas\n",
        "    linhas1 = traducao1.splitlines()\n",
        "    linhas2 = traducao2.splitlines()\n",
        "\n",
        "    # Use a biblioteca difflib para comparar as linhas\n",
        "    comparador = difflib.SequenceMatcher(None, linhas1, linhas2)\n",
        "\n",
        "    # Obtenha as operações de diferença\n",
        "    operacoes = comparador.get_opcodes()\n",
        "\n",
        "    # Exiba as similaridades\n",
        "    for tag, i1, i2, j1, j2 in operacoes:\n",
        "        if tag in ['replace', 'equal']:\n",
        "            print(tag, linhas1[i1:i2], linhas2[j1:j2])\n",
        "\n",
        "# Exemplo de uso\n",
        "traducao1 = \"Esta é a primeira tradução.\\nEla contém algumas diferenças.\"\n",
        "traducao2 = \"Esta é a segunda tradução.\\nEla tem algumas diferenças.\"\n",
        "\n",
        "comparar_traducoes(traducao1, traducao2)\n"
      ],
      "metadata": {
        "colab": {
          "base_uri": "https://localhost:8080/"
        },
        "id": "traV94OLvjEG",
        "outputId": "0d11e68b-a02b-432d-bc6c-6384a67d4cde"
      },
      "execution_count": null,
      "outputs": [
        {
          "output_type": "stream",
          "name": "stdout",
          "text": [
            "replace ['Esta é a primeira tradução.', 'Ela contém algumas diferenças.'] ['Esta é a segunda tradução.', 'Ela tem algumas diferenças.']\n"
          ]
        }
      ]
    },
    {
      "cell_type": "code",
      "source": [
        "import difflib\n",
        "\n",
        "def compare_translations(translation1, translation2):\n",
        "  \"\"\"Compara duas traduções diferentes e marca os trechos similares entre elas.\"\"\"\n",
        "\n",
        "  sm = difflib.SequenceMatcher(None, translation1, translation2)\n",
        "  matching_blocks = sm.get_matching_blocks()\n",
        "\n",
        "  similar_segments = []\n",
        "  for block in matching_blocks:\n",
        "    start1, end1 = block[0], block[0] + block[2]  # Índices na primeira tradução\n",
        "    start2, end2 = block[1], block[1] + block[2]  # Índices na segunda tradução\n",
        "    similar_segment = (translation1[start1:end1], translation2[start2:end2])\n",
        "    similar_segments.append(similar_segment)\n",
        "\n",
        "  return similar_segments\n",
        "\n",
        "\n",
        "\n",
        "# Exemplo de uso.\n",
        "translation1 = \"A casa é grande.\"\n",
        "translation2 = \"A casa é enorme.\"\n",
        "\n",
        "similar_segments = compare_translations(translation1, translation2)\n",
        "\n",
        "for similar_segment in similar_segments:\n",
        "  print(similar_segment)\n"
      ],
      "metadata": {
        "colab": {
          "base_uri": "https://localhost:8080/"
        },
        "id": "oOoUQe6TvjGU",
        "outputId": "0212ec96-4c88-45d9-ca8b-b2d4a61343c3"
      },
      "execution_count": null,
      "outputs": [
        {
          "output_type": "stream",
          "name": "stdout",
          "text": [
            "('A casa é ', 'A casa é ')\n",
            "('r', 'r')\n",
            "('e.', 'e.')\n",
            "('', '')\n"
          ]
        }
      ]
    },
    {
      "cell_type": "code",
      "source": [],
      "metadata": {
        "id": "N4BnbVZFvjJI"
      },
      "execution_count": null,
      "outputs": []
    },
    {
      "cell_type": "code",
      "source": [],
      "metadata": {
        "id": "0dsZthN1VDe4"
      },
      "execution_count": null,
      "outputs": []
    }
  ]
}